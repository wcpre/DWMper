{
 "cells": [
  {
   "cell_type": "code",
   "execution_count": null,
   "metadata": {},
   "outputs": [
    {
     "ename": "",
     "evalue": "",
     "output_type": "error",
     "traceback": [
      "\u001b[1;31mThe kernel failed to start as 'TypeAlias' could not be imported from 'c:\\Users\\HP\\AppData\\Local\\Programs\\Python\\Python38\\lib\\site-packages\\typing_extensions.py'.\n",
      "\u001b[1;31mClick <a href='https://aka.ms/kernelFailuresModuleImportErrFromFile'>here</a> for more info."
     ]
    }
   ],
   "source": [
    "!pip install mlxtend -q\n"
   ]
  },
  {
   "cell_type": "code",
   "execution_count": 18,
   "metadata": {},
   "outputs": [],
   "source": [
    "from mlxtend.frequent_patterns import apriori\n",
    "from mlxtend.frequent_patterns import association_rules\n",
    "from mlxtend.preprocessing import TransactionEncoder\n",
    "import pandas as pd\n"
   ]
  },
  {
   "cell_type": "code",
   "execution_count": 19,
   "metadata": {},
   "outputs": [
    {
     "name": "stdout",
     "output_type": "stream",
     "text": [
      "   bread  butter   milk   nuts\n",
      "0   True   False   True   True\n",
      "1   True    True   True  False\n",
      "2   True   False   True  False\n",
      "3  False   False   True   True\n",
      "4   True    True  False  False\n"
     ]
    }
   ],
   "source": [
    "\n",
    "dataset = [\n",
    "    ['milk', 'bread', 'nuts'],\n",
    "    ['milk', 'bread', 'butter'],\n",
    "    ['milk', 'bread'],\n",
    "    ['milk', 'nuts'],\n",
    "    ['bread', 'butter']\n",
    "]\n",
    "\n",
    "te = TransactionEncoder()\n",
    "te_ary = te.fit(dataset).transform(dataset)\n",
    "df = pd.DataFrame(te_ary, columns=te.columns_)\n",
    "print(df)\n",
    "\n",
    "\n"
   ]
  },
  {
   "cell_type": "code",
   "execution_count": 20,
   "metadata": {},
   "outputs": [
    {
     "name": "stdout",
     "output_type": "stream",
     "text": [
      "Frequent Itemsets:\n",
      "   support       itemsets\n",
      "0      0.8        (bread)\n",
      "1      0.8         (milk)\n",
      "2      0.6  (bread, milk)\n",
      "\n",
      "Association Rules:\n",
      "  antecedents consequents  antecedent support  consequent support  support  \\\n",
      "0     (bread)      (milk)                 0.8                 0.8      0.6   \n",
      "1      (milk)     (bread)                 0.8                 0.8      0.6   \n",
      "\n",
      "   confidence    lift  leverage  conviction  zhangs_metric  \n",
      "0        0.75  0.9375     -0.04         0.8          -0.25  \n",
      "1        0.75  0.9375     -0.04         0.8          -0.25  \n"
     ]
    }
   ],
   "source": [
    "\n",
    "frequent_itemsets = apriori(df, min_support=0.5, use_colnames=True)\n",
    "\n",
    "\n",
    "print(\"Frequent Itemsets:\")\n",
    "print(frequent_itemsets)\n",
    "\n",
    "\n",
    "rules = association_rules(frequent_itemsets, metric=\"lift\", min_threshold=0.7)\n",
    "\n",
    "print(\"\\nAssociation Rules:\")\n",
    "print(rules)"
   ]
  }
 ],
 "metadata": {
  "kernelspec": {
   "display_name": "base",
   "language": "python",
   "name": "python3"
  },
  "language_info": {
   "codemirror_mode": {
    "name": "ipython",
    "version": 3
   },
   "file_extension": ".py",
   "mimetype": "text/x-python",
   "name": "python",
   "nbconvert_exporter": "python",
   "pygments_lexer": "ipython3",
   "version": "3.8.0"
  }
 },
 "nbformat": 4,
 "nbformat_minor": 2
}
