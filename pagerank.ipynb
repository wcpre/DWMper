{
 "cells": [
  {
   "cell_type": "code",
   "execution_count": 1,
   "metadata": {},
   "outputs": [
    {
     "name": "stdout",
     "output_type": "stream",
     "text": [
      "PageRank Scores: [0.675      0.34763299 0.36486701 0.0375    ]\n"
     ]
    }
   ],
   "source": [
    "import numpy as np\n",
    "\n",
    "def pagerank(adjacency_matrix, damping_factor=0.85, num_iterations=100):\n",
    "\n",
    "    n = len(adjacency_matrix)\n",
    "    pagerank_scores = np.ones(n) / n\n",
    "    \n",
    "    for _ in range(num_iterations):\n",
    "        new_pagerank_scores = (1 - damping_factor) / n + damping_factor * np.dot(adjacency_matrix, pagerank_scores)\n",
    "        if np.allclose(new_pagerank_scores, pagerank_scores, atol=1e-6):\n",
    "            break\n",
    "        pagerank_scores = new_pagerank_scores\n",
    "    \n",
    "    return pagerank_scores\n",
    "\n",
    "\n",
    "adjacency_matrix = np.array([\n",
    "    [0, 1, 1, 1],\n",
    "    [0, 0, 1, 0],\n",
    "    [0, 1, 0, 1],\n",
    "    [0, 0, 0, 0]\n",
    "])\n",
    "\n",
    "page_rank_scores = pagerank(adjacency_matrix)\n",
    "print(\"PageRank Scores:\", page_rank_scores)\n"
   ]
  }
 ],
 "metadata": {
  "kernelspec": {
   "display_name": "base",
   "language": "python",
   "name": "python3"
  },
  "language_info": {
   "codemirror_mode": {
    "name": "ipython",
    "version": 3
   },
   "file_extension": ".py",
   "mimetype": "text/x-python",
   "name": "python",
   "nbconvert_exporter": "python",
   "pygments_lexer": "ipython3",
   "version": "3.10.9"
  }
 },
 "nbformat": 4,
 "nbformat_minor": 2
}
